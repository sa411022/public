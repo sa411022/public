{
 "cells": [
  {
   "cell_type": "code",
   "execution_count": 1,
   "metadata": {},
   "outputs": [
    {
     "data": {
      "application/vnd.jupyter.widget-view+json": {
       "model_id": "a03c96c3de284ce7b247658e351b016f",
       "version_major": 2,
       "version_minor": 0
      },
      "text/html": [
       "<p>Failed to display Jupyter Widget of type <code>VBox</code>.</p>\n",
       "<p>\n",
       "  If you're reading this message in the Jupyter Notebook or JupyterLab Notebook, it may mean\n",
       "  that the widgets JavaScript is still loading. If this message persists, it\n",
       "  likely means that the widgets JavaScript library is either not installed or\n",
       "  not enabled. See the <a href=\"https://ipywidgets.readthedocs.io/en/stable/user_install.html\">Jupyter\n",
       "  Widgets Documentation</a> for setup instructions.\n",
       "</p>\n",
       "<p>\n",
       "  If you're reading this message in another frontend (for example, a static\n",
       "  rendering on GitHub or <a href=\"https://nbviewer.jupyter.org/\">NBViewer</a>),\n",
       "  it may mean that your frontend doesn't currently support widgets.\n",
       "</p>\n"
      ],
      "text/plain": [
       "VBox(children=(Text(value='', disabled=True, layout=Layout(width='190px'), placeholder='0'), HBox(children=(Button(description='(', layout=Layout(width='45px'), style=ButtonStyle()), Button(description=')', layout=Layout(width='45px'), style=ButtonStyle()), Button(description='del', layout=Layout(width='45px'), style=ButtonStyle()), Button(description='AC', layout=Layout(width='45px'), style=ButtonStyle()))), HBox(children=(Button(description='7', layout=Layout(width='45px'), style=ButtonStyle()), Button(description='8', layout=Layout(width='45px'), style=ButtonStyle()), Button(description='9', layout=Layout(width='45px'), style=ButtonStyle()), Button(description=' / ', layout=Layout(width='45px'), style=ButtonStyle()))), HBox(children=(Button(description='4', layout=Layout(width='45px'), style=ButtonStyle()), Button(description='5', layout=Layout(width='45px'), style=ButtonStyle()), Button(description='6', layout=Layout(width='45px'), style=ButtonStyle()), Button(description=' * ', layout=Layout(width='45px'), style=ButtonStyle()))), HBox(children=(Button(description='1', layout=Layout(width='45px'), style=ButtonStyle()), Button(description='2', layout=Layout(width='45px'), style=ButtonStyle()), Button(description='3', layout=Layout(width='45px'), style=ButtonStyle()), Button(description=' - ', layout=Layout(width='45px'), style=ButtonStyle()))), HBox(children=(Button(description='0', layout=Layout(width='45px'), style=ButtonStyle()), Button(description='.', layout=Layout(width='45px'), style=ButtonStyle()), Button(description='=', layout=Layout(width='45px'), style=ButtonStyle()), Button(description=' + ', layout=Layout(width='45px'), style=ButtonStyle())))))"
      ]
     },
     "metadata": {},
     "output_type": "display_data"
    }
   ],
   "source": [
    "from __future__ import division\n",
    "import ipywidgets as ipw\n",
    "\n",
    "output = ipw.Text(placeholder=\"0\", layout=ipw.Layout(width=\"190px\"),  disabled=True)\n",
    "\n",
    "def on_click(btn):\n",
    "    if btn.description == \"=\":\n",
    "        try:\n",
    "            output.value = str(eval(output.value))\n",
    "        except:\n",
    "            output.value = \"ERROR\"\n",
    "    elif btn.description == \"AC\":\n",
    "        output.value = \"\"\n",
    "    elif btn.description == \"del\":\n",
    "        output.value = output.value[:-1]\n",
    "    else:\n",
    "        output.value = output.value + btn.description\n",
    "\n",
    "def mk_btn(description):\n",
    "    btn = ipw.Button(description=description, layout=ipw.Layout(width=\"45px\"))\n",
    "    btn.on_click(on_click)\n",
    "    return btn\n",
    "\n",
    "row0 = ipw.HBox([mk_btn(d) for d in (\"(\", \")\", \"del\", \"AC\")])\n",
    "row1 = ipw.HBox([mk_btn(d) for d in (\"7\", \"8\", \"9\", \" / \")])\n",
    "row2 = ipw.HBox([mk_btn(d) for d in (\"4\", \"5\", \"6\", \" * \")])\n",
    "row3 = ipw.HBox([mk_btn(d) for d in (\"1\", \"2\", \"3\", \" - \")])\n",
    "row4 = ipw.HBox([mk_btn(d) for d in (\"0\", \".\", \"=\", \" + \")])\n",
    "ipw.VBox((output, row0, row1, row2, row3, row4))"
   ]
  },
  {
   "cell_type": "code",
   "execution_count": null,
   "metadata": {},
   "outputs": [],
   "source": []
  }
 ],
 "metadata": {
  "kernelspec": {
   "display_name": "Python 3",
   "language": "python",
   "name": "python3"
  },
  "language_info": {
   "codemirror_mode": {
    "name": "ipython",
    "version": 3
   },
   "file_extension": ".py",
   "mimetype": "text/x-python",
   "name": "python",
   "nbconvert_exporter": "python",
   "pygments_lexer": "ipython3",
   "version": "3.6.4"
  },
  "widgets": {
   "application/vnd.jupyter.widget-state+json": {
    "state": {
     "03107524b4a64c28893c00ffdc0e52b0": {
      "model_module": "@jupyter-widgets/controls",
      "model_module_version": "1.1.0",
      "model_name": "ButtonStyleModel",
      "state": {}
     },
     "085267db0c8c444aaf32f27d0fff9613": {
      "model_module": "@jupyter-widgets/controls",
      "model_module_version": "1.1.0",
      "model_name": "HBoxModel",
      "state": {
       "children": [
        "IPY_MODEL_85ee4cdbbdd24835811da95a478f6968",
        "IPY_MODEL_e03fbc5b89474aa4be35dfc3512cef29",
        "IPY_MODEL_fd8871c842a04673b70ac9640b568334",
        "IPY_MODEL_096416808ba2497f8ac68844826e0be0"
       ],
       "layout": "IPY_MODEL_478c6b0ce78049fb86dce5c327562f40"
      }
     },
     "09028ba4aef54a15b58d1eac622546a2": {
      "model_module": "@jupyter-widgets/controls",
      "model_module_version": "1.1.0",
      "model_name": "ButtonStyleModel",
      "state": {}
     },
     "096416808ba2497f8ac68844826e0be0": {
      "model_module": "@jupyter-widgets/controls",
      "model_module_version": "1.1.0",
      "model_name": "ButtonModel",
      "state": {
       "description": " / ",
       "layout": "IPY_MODEL_506789e9d3fa4e6694b18a6d0875beb7",
       "style": "IPY_MODEL_b16a1869b9a045628e31b49027e9a0cf"
      }
     },
     "15486293966f496fa20936c1c3048f5d": {
      "model_module": "@jupyter-widgets/base",
      "model_module_version": "1.0.0",
      "model_name": "LayoutModel",
      "state": {
       "width": "45px"
      }
     },
     "1576954f3e4e4345a5ad91458db0cda8": {
      "model_module": "@jupyter-widgets/controls",
      "model_module_version": "1.1.0",
      "model_name": "ButtonModel",
      "state": {
       "description": "4",
       "layout": "IPY_MODEL_cdffeeac70f2453ab8c5ee114d039512",
       "style": "IPY_MODEL_7992e9171b024fc59cc25fbeec5af722"
      }
     },
     "19df2a4c9d5f40bda744bdc1e5629f92": {
      "model_module": "@jupyter-widgets/controls",
      "model_module_version": "1.1.0",
      "model_name": "HBoxModel",
      "state": {
       "children": [
        "IPY_MODEL_1576954f3e4e4345a5ad91458db0cda8",
        "IPY_MODEL_b4f81d4640bd46cbbb3240915014c037",
        "IPY_MODEL_95be22c339ae4f2486ee16a138520c05",
        "IPY_MODEL_4c1ea077904141dba8310787ad684303"
       ],
       "layout": "IPY_MODEL_cb095a26a5a44042a15f4411dbc38451"
      }
     },
     "21cc1b88a1ea49f390a768ad234eda8e": {
      "model_module": "@jupyter-widgets/controls",
      "model_module_version": "1.1.0",
      "model_name": "ButtonStyleModel",
      "state": {}
     },
     "2326bdf903c9476baf86f82a1f554041": {
      "model_module": "@jupyter-widgets/controls",
      "model_module_version": "1.1.0",
      "model_name": "ButtonStyleModel",
      "state": {}
     },
     "23cb14364ea04a6485b815e8b3c9a2b1": {
      "model_module": "@jupyter-widgets/base",
      "model_module_version": "1.0.0",
      "model_name": "LayoutModel",
      "state": {
       "width": "45px"
      }
     },
     "2940f15659744073ae8c65ddfcd40277": {
      "model_module": "@jupyter-widgets/controls",
      "model_module_version": "1.1.0",
      "model_name": "ButtonModel",
      "state": {
       "description": "2",
       "layout": "IPY_MODEL_23cb14364ea04a6485b815e8b3c9a2b1",
       "style": "IPY_MODEL_81e396f52c9344e29a5c4bc0ed909ddf"
      }
     },
     "3689c2b37d6c4dd7bc434f75e2cdcb17": {
      "model_module": "@jupyter-widgets/base",
      "model_module_version": "1.0.0",
      "model_name": "LayoutModel",
      "state": {
       "width": "45px"
      }
     },
     "3d5e7745db1d498f859c2ae81e909998": {
      "model_module": "@jupyter-widgets/controls",
      "model_module_version": "1.1.0",
      "model_name": "ButtonStyleModel",
      "state": {}
     },
     "3db51a7577b14fc9b67a3d5ba4117941": {
      "model_module": "@jupyter-widgets/base",
      "model_module_version": "1.0.0",
      "model_name": "LayoutModel",
      "state": {
       "width": "45px"
      }
     },
     "45b492674c6b40789654f375f690b779": {
      "model_module": "@jupyter-widgets/base",
      "model_module_version": "1.0.0",
      "model_name": "LayoutModel",
      "state": {
       "width": "45px"
      }
     },
     "472d0cf3249448dfba416f97094c621b": {
      "model_module": "@jupyter-widgets/base",
      "model_module_version": "1.0.0",
      "model_name": "LayoutModel",
      "state": {}
     },
     "478c6b0ce78049fb86dce5c327562f40": {
      "model_module": "@jupyter-widgets/base",
      "model_module_version": "1.0.0",
      "model_name": "LayoutModel",
      "state": {}
     },
     "4c1ea077904141dba8310787ad684303": {
      "model_module": "@jupyter-widgets/controls",
      "model_module_version": "1.1.0",
      "model_name": "ButtonModel",
      "state": {
       "description": " * ",
       "layout": "IPY_MODEL_e3a5b9c655444b15a658d1af634f0e70",
       "style": "IPY_MODEL_5f8d9d97f37e47bda9b0211e8b25d8fa"
      }
     },
     "500b456702564c0b9438c51975ce3a51": {
      "model_module": "@jupyter-widgets/controls",
      "model_module_version": "1.1.0",
      "model_name": "ButtonStyleModel",
      "state": {}
     },
     "506789e9d3fa4e6694b18a6d0875beb7": {
      "model_module": "@jupyter-widgets/base",
      "model_module_version": "1.0.0",
      "model_name": "LayoutModel",
      "state": {
       "width": "45px"
      }
     },
     "5ab4348a481a46e5ab730a97e697d43d": {
      "model_module": "@jupyter-widgets/base",
      "model_module_version": "1.0.0",
      "model_name": "LayoutModel",
      "state": {
       "width": "45px"
      }
     },
     "5b9a49f9214242c483b04d9e69fde86a": {
      "model_module": "@jupyter-widgets/base",
      "model_module_version": "1.0.0",
      "model_name": "LayoutModel",
      "state": {
       "width": "45px"
      }
     },
     "5c30deba3b7c4746923d5d8abb9f5d39": {
      "model_module": "@jupyter-widgets/controls",
      "model_module_version": "1.1.0",
      "model_name": "ButtonModel",
      "state": {
       "description": "del",
       "layout": "IPY_MODEL_a10756b12ba44c4f9971fa385a6f666b",
       "style": "IPY_MODEL_21cc1b88a1ea49f390a768ad234eda8e"
      }
     },
     "5f8d9d97f37e47bda9b0211e8b25d8fa": {
      "model_module": "@jupyter-widgets/controls",
      "model_module_version": "1.1.0",
      "model_name": "ButtonStyleModel",
      "state": {}
     },
     "62fb5764997a429781fb6043c880d6f5": {
      "model_module": "@jupyter-widgets/controls",
      "model_module_version": "1.1.0",
      "model_name": "ButtonModel",
      "state": {
       "description": "=",
       "layout": "IPY_MODEL_afdd534dd869496baf5a9fc26336e7ab",
       "style": "IPY_MODEL_03107524b4a64c28893c00ffdc0e52b0"
      }
     },
     "65fa1aac4e894477bbaef7f7233a0feb": {
      "model_module": "@jupyter-widgets/base",
      "model_module_version": "1.0.0",
      "model_name": "LayoutModel",
      "state": {
       "width": "45px"
      }
     },
     "6879433f07bf4da3b8fea0ebbdcce153": {
      "model_module": "@jupyter-widgets/base",
      "model_module_version": "1.0.0",
      "model_name": "LayoutModel",
      "state": {
       "width": "45px"
      }
     },
     "6aa738a55e074276a9afcbddb1e2909e": {
      "model_module": "@jupyter-widgets/controls",
      "model_module_version": "1.1.0",
      "model_name": "TextModel",
      "state": {
       "disabled": true,
       "layout": "IPY_MODEL_da6091ca450e4cf9bfbf1adda396c0b3",
       "placeholder": "0",
       "style": "IPY_MODEL_b975161461f6465f92c30f65e837648d"
      }
     },
     "6aab128d859f4b999bda385c97ab486e": {
      "model_module": "@jupyter-widgets/controls",
      "model_module_version": "1.1.0",
      "model_name": "ButtonModel",
      "state": {
       "description": ")",
       "layout": "IPY_MODEL_8f25cec1e9c94754bc3d8e12c5a4a95b",
       "style": "IPY_MODEL_bf9e590202334feeb8b0abbaba6b9e07"
      }
     },
     "6dcd7d6fd9f349bea8c2481aa2418114": {
      "model_module": "@jupyter-widgets/controls",
      "model_module_version": "1.1.0",
      "model_name": "ButtonStyleModel",
      "state": {}
     },
     "6eaeb1e0b90d4fdd96099363b76b8fe7": {
      "model_module": "@jupyter-widgets/controls",
      "model_module_version": "1.1.0",
      "model_name": "ButtonModel",
      "state": {
       "description": " - ",
       "layout": "IPY_MODEL_15486293966f496fa20936c1c3048f5d",
       "style": "IPY_MODEL_bfded2b4139348018327ead49d0ee278"
      }
     },
     "7992e9171b024fc59cc25fbeec5af722": {
      "model_module": "@jupyter-widgets/controls",
      "model_module_version": "1.1.0",
      "model_name": "ButtonStyleModel",
      "state": {}
     },
     "7a8c684c821c4f41ab78913ae750d467": {
      "model_module": "@jupyter-widgets/controls",
      "model_module_version": "1.1.0",
      "model_name": "ButtonModel",
      "state": {
       "description": ".",
       "layout": "IPY_MODEL_5ab4348a481a46e5ab730a97e697d43d",
       "style": "IPY_MODEL_6dcd7d6fd9f349bea8c2481aa2418114"
      }
     },
     "81e396f52c9344e29a5c4bc0ed909ddf": {
      "model_module": "@jupyter-widgets/controls",
      "model_module_version": "1.1.0",
      "model_name": "ButtonStyleModel",
      "state": {}
     },
     "85ee4cdbbdd24835811da95a478f6968": {
      "model_module": "@jupyter-widgets/controls",
      "model_module_version": "1.1.0",
      "model_name": "ButtonModel",
      "state": {
       "description": "7",
       "layout": "IPY_MODEL_a7102a20ed2f4357a345650c2360245c",
       "style": "IPY_MODEL_af5b95a297d349fcaa090b72910874e5"
      }
     },
     "888f711efbab476c944a329f0b1372a3": {
      "model_module": "@jupyter-widgets/base",
      "model_module_version": "1.0.0",
      "model_name": "LayoutModel",
      "state": {}
     },
     "8f25cec1e9c94754bc3d8e12c5a4a95b": {
      "model_module": "@jupyter-widgets/base",
      "model_module_version": "1.0.0",
      "model_name": "LayoutModel",
      "state": {
       "width": "45px"
      }
     },
     "942f2ead27f84ea8954bb186c2807f7a": {
      "model_module": "@jupyter-widgets/controls",
      "model_module_version": "1.1.0",
      "model_name": "ButtonModel",
      "state": {
       "description": "3",
       "layout": "IPY_MODEL_3db51a7577b14fc9b67a3d5ba4117941",
       "style": "IPY_MODEL_9e658782983e4fd682a9827390b59b05"
      }
     },
     "95be22c339ae4f2486ee16a138520c05": {
      "model_module": "@jupyter-widgets/controls",
      "model_module_version": "1.1.0",
      "model_name": "ButtonModel",
      "state": {
       "description": "6",
       "layout": "IPY_MODEL_6879433f07bf4da3b8fea0ebbdcce153",
       "style": "IPY_MODEL_fbf2844ba20b42a9819a1a05ecaeb1a2"
      }
     },
     "9e658782983e4fd682a9827390b59b05": {
      "model_module": "@jupyter-widgets/controls",
      "model_module_version": "1.1.0",
      "model_name": "ButtonStyleModel",
      "state": {}
     },
     "a03c96c3de284ce7b247658e351b016f": {
      "model_module": "@jupyter-widgets/controls",
      "model_module_version": "1.1.0",
      "model_name": "VBoxModel",
      "state": {
       "children": [
        "IPY_MODEL_6aa738a55e074276a9afcbddb1e2909e",
        "IPY_MODEL_bf8ff65ec10847a390c08adfb51d964f",
        "IPY_MODEL_085267db0c8c444aaf32f27d0fff9613",
        "IPY_MODEL_19df2a4c9d5f40bda744bdc1e5629f92",
        "IPY_MODEL_ba4ac06b165841e5bcc4f2a8ac6564da",
        "IPY_MODEL_fac05440f99a431fbffdf6d24a540465"
       ],
       "layout": "IPY_MODEL_888f711efbab476c944a329f0b1372a3"
      }
     },
     "a10756b12ba44c4f9971fa385a6f666b": {
      "model_module": "@jupyter-widgets/base",
      "model_module_version": "1.0.0",
      "model_name": "LayoutModel",
      "state": {
       "width": "45px"
      }
     },
     "a7102a20ed2f4357a345650c2360245c": {
      "model_module": "@jupyter-widgets/base",
      "model_module_version": "1.0.0",
      "model_name": "LayoutModel",
      "state": {
       "width": "45px"
      }
     },
     "a785eb3156bc4722841d575d1235f182": {
      "model_module": "@jupyter-widgets/base",
      "model_module_version": "1.0.0",
      "model_name": "LayoutModel",
      "state": {
       "width": "45px"
      }
     },
     "af5b95a297d349fcaa090b72910874e5": {
      "model_module": "@jupyter-widgets/controls",
      "model_module_version": "1.1.0",
      "model_name": "ButtonStyleModel",
      "state": {}
     },
     "afdd534dd869496baf5a9fc26336e7ab": {
      "model_module": "@jupyter-widgets/base",
      "model_module_version": "1.0.0",
      "model_name": "LayoutModel",
      "state": {
       "width": "45px"
      }
     },
     "b16a1869b9a045628e31b49027e9a0cf": {
      "model_module": "@jupyter-widgets/controls",
      "model_module_version": "1.1.0",
      "model_name": "ButtonStyleModel",
      "state": {}
     },
     "b4f81d4640bd46cbbb3240915014c037": {
      "model_module": "@jupyter-widgets/controls",
      "model_module_version": "1.1.0",
      "model_name": "ButtonModel",
      "state": {
       "description": "5",
       "layout": "IPY_MODEL_a785eb3156bc4722841d575d1235f182",
       "style": "IPY_MODEL_f90590322ddf48d1870231ef2afc0c88"
      }
     },
     "b63c3c09bab2403db4b82f870e83a4ec": {
      "model_module": "@jupyter-widgets/base",
      "model_module_version": "1.0.0",
      "model_name": "LayoutModel",
      "state": {
       "width": "45px"
      }
     },
     "b975161461f6465f92c30f65e837648d": {
      "model_module": "@jupyter-widgets/controls",
      "model_module_version": "1.1.0",
      "model_name": "DescriptionStyleModel",
      "state": {
       "description_width": ""
      }
     },
     "ba4ac06b165841e5bcc4f2a8ac6564da": {
      "model_module": "@jupyter-widgets/controls",
      "model_module_version": "1.1.0",
      "model_name": "HBoxModel",
      "state": {
       "children": [
        "IPY_MODEL_c5910e9f1842460aa80573448530ac2a",
        "IPY_MODEL_2940f15659744073ae8c65ddfcd40277",
        "IPY_MODEL_942f2ead27f84ea8954bb186c2807f7a",
        "IPY_MODEL_6eaeb1e0b90d4fdd96099363b76b8fe7"
       ],
       "layout": "IPY_MODEL_daa4fddc09614bc4a4dd3fe02f12d06d"
      }
     },
     "bad765e3538f4cff915bacdc37b182d0": {
      "model_module": "@jupyter-widgets/controls",
      "model_module_version": "1.1.0",
      "model_name": "ButtonModel",
      "state": {
       "description": "0",
       "layout": "IPY_MODEL_b63c3c09bab2403db4b82f870e83a4ec",
       "style": "IPY_MODEL_3d5e7745db1d498f859c2ae81e909998"
      }
     },
     "bf8ff65ec10847a390c08adfb51d964f": {
      "model_module": "@jupyter-widgets/controls",
      "model_module_version": "1.1.0",
      "model_name": "HBoxModel",
      "state": {
       "children": [
        "IPY_MODEL_e2c0c119c4e34bb69389845bd625e964",
        "IPY_MODEL_6aab128d859f4b999bda385c97ab486e",
        "IPY_MODEL_5c30deba3b7c4746923d5d8abb9f5d39",
        "IPY_MODEL_e707e0b49cd6495fbbdd9206badbc953"
       ],
       "layout": "IPY_MODEL_ff4f2ec1f2e243f785888acd1d06eaa0"
      }
     },
     "bf9e590202334feeb8b0abbaba6b9e07": {
      "model_module": "@jupyter-widgets/controls",
      "model_module_version": "1.1.0",
      "model_name": "ButtonStyleModel",
      "state": {}
     },
     "bfded2b4139348018327ead49d0ee278": {
      "model_module": "@jupyter-widgets/controls",
      "model_module_version": "1.1.0",
      "model_name": "ButtonStyleModel",
      "state": {}
     },
     "c5910e9f1842460aa80573448530ac2a": {
      "model_module": "@jupyter-widgets/controls",
      "model_module_version": "1.1.0",
      "model_name": "ButtonModel",
      "state": {
       "description": "1",
       "layout": "IPY_MODEL_fab9c13d49cc44f5b3045b7748a142a6",
       "style": "IPY_MODEL_d8e333005048438da5fd2c9c1e726552"
      }
     },
     "cb095a26a5a44042a15f4411dbc38451": {
      "model_module": "@jupyter-widgets/base",
      "model_module_version": "1.0.0",
      "model_name": "LayoutModel",
      "state": {}
     },
     "cdffeeac70f2453ab8c5ee114d039512": {
      "model_module": "@jupyter-widgets/base",
      "model_module_version": "1.0.0",
      "model_name": "LayoutModel",
      "state": {
       "width": "45px"
      }
     },
     "d8e333005048438da5fd2c9c1e726552": {
      "model_module": "@jupyter-widgets/controls",
      "model_module_version": "1.1.0",
      "model_name": "ButtonStyleModel",
      "state": {}
     },
     "da6091ca450e4cf9bfbf1adda396c0b3": {
      "model_module": "@jupyter-widgets/base",
      "model_module_version": "1.0.0",
      "model_name": "LayoutModel",
      "state": {
       "width": "190px"
      }
     },
     "daa4fddc09614bc4a4dd3fe02f12d06d": {
      "model_module": "@jupyter-widgets/base",
      "model_module_version": "1.0.0",
      "model_name": "LayoutModel",
      "state": {}
     },
     "e03fbc5b89474aa4be35dfc3512cef29": {
      "model_module": "@jupyter-widgets/controls",
      "model_module_version": "1.1.0",
      "model_name": "ButtonModel",
      "state": {
       "description": "8",
       "layout": "IPY_MODEL_45b492674c6b40789654f375f690b779",
       "style": "IPY_MODEL_500b456702564c0b9438c51975ce3a51"
      }
     },
     "e2b9c8860a78411f98a9a2edeeb738a0": {
      "model_module": "@jupyter-widgets/controls",
      "model_module_version": "1.1.0",
      "model_name": "ButtonModel",
      "state": {
       "description": " + ",
       "layout": "IPY_MODEL_ff45b0c310f94865bd40f3d92e6a69e4",
       "style": "IPY_MODEL_09028ba4aef54a15b58d1eac622546a2"
      }
     },
     "e2c0c119c4e34bb69389845bd625e964": {
      "model_module": "@jupyter-widgets/controls",
      "model_module_version": "1.1.0",
      "model_name": "ButtonModel",
      "state": {
       "description": "(",
       "layout": "IPY_MODEL_3689c2b37d6c4dd7bc434f75e2cdcb17",
       "style": "IPY_MODEL_2326bdf903c9476baf86f82a1f554041"
      }
     },
     "e3a5b9c655444b15a658d1af634f0e70": {
      "model_module": "@jupyter-widgets/base",
      "model_module_version": "1.0.0",
      "model_name": "LayoutModel",
      "state": {
       "width": "45px"
      }
     },
     "e707e0b49cd6495fbbdd9206badbc953": {
      "model_module": "@jupyter-widgets/controls",
      "model_module_version": "1.1.0",
      "model_name": "ButtonModel",
      "state": {
       "description": "AC",
       "layout": "IPY_MODEL_5b9a49f9214242c483b04d9e69fde86a",
       "style": "IPY_MODEL_ecdcc3cf59ae448d967a6297dad313fc"
      }
     },
     "ecdcc3cf59ae448d967a6297dad313fc": {
      "model_module": "@jupyter-widgets/controls",
      "model_module_version": "1.1.0",
      "model_name": "ButtonStyleModel",
      "state": {}
     },
     "f90590322ddf48d1870231ef2afc0c88": {
      "model_module": "@jupyter-widgets/controls",
      "model_module_version": "1.1.0",
      "model_name": "ButtonStyleModel",
      "state": {}
     },
     "fab9c13d49cc44f5b3045b7748a142a6": {
      "model_module": "@jupyter-widgets/base",
      "model_module_version": "1.0.0",
      "model_name": "LayoutModel",
      "state": {
       "width": "45px"
      }
     },
     "fac05440f99a431fbffdf6d24a540465": {
      "model_module": "@jupyter-widgets/controls",
      "model_module_version": "1.1.0",
      "model_name": "HBoxModel",
      "state": {
       "children": [
        "IPY_MODEL_bad765e3538f4cff915bacdc37b182d0",
        "IPY_MODEL_7a8c684c821c4f41ab78913ae750d467",
        "IPY_MODEL_62fb5764997a429781fb6043c880d6f5",
        "IPY_MODEL_e2b9c8860a78411f98a9a2edeeb738a0"
       ],
       "layout": "IPY_MODEL_472d0cf3249448dfba416f97094c621b"
      }
     },
     "fbf2844ba20b42a9819a1a05ecaeb1a2": {
      "model_module": "@jupyter-widgets/controls",
      "model_module_version": "1.1.0",
      "model_name": "ButtonStyleModel",
      "state": {}
     },
     "fd8871c842a04673b70ac9640b568334": {
      "model_module": "@jupyter-widgets/controls",
      "model_module_version": "1.1.0",
      "model_name": "ButtonModel",
      "state": {
       "description": "9",
       "layout": "IPY_MODEL_65fa1aac4e894477bbaef7f7233a0feb",
       "style": "IPY_MODEL_ffdfc6b8c3964ff3b88202a0006157e9"
      }
     },
     "ff45b0c310f94865bd40f3d92e6a69e4": {
      "model_module": "@jupyter-widgets/base",
      "model_module_version": "1.0.0",
      "model_name": "LayoutModel",
      "state": {
       "width": "45px"
      }
     },
     "ff4f2ec1f2e243f785888acd1d06eaa0": {
      "model_module": "@jupyter-widgets/base",
      "model_module_version": "1.0.0",
      "model_name": "LayoutModel",
      "state": {}
     },
     "ffdfc6b8c3964ff3b88202a0006157e9": {
      "model_module": "@jupyter-widgets/controls",
      "model_module_version": "1.1.0",
      "model_name": "ButtonStyleModel",
      "state": {}
     }
    },
    "version_major": 2,
    "version_minor": 0
   }
  }
 },
 "nbformat": 4,
 "nbformat_minor": 2
}
